{
 "cells": [
  {
   "cell_type": "code",
   "execution_count": null,
   "id": "4feeadb6-51a3-4d6c-b9e9-ebd235c23431",
   "metadata": {},
   "outputs": [],
   "source": [
    "#my notebook"
   ]
  },
  {
   "cell_type": "code",
   "execution_count": 1,
   "id": "5f5c0411-983d-4e74-954d-5c10254ff421",
   "metadata": {},
   "outputs": [],
   "source": [
    "import smtplib, ssl\n",
    "\n",
    "port = 587  # For starttls\n",
    "smtp_server = \"smtp.gmail.com\"\n",
    "sender_email = \"my@gmail.com\"\n",
    "receiver_email = \"your@gmail.com\"\n",
    "#password = input(\"Type your password and press enter:\")\n",
    "message = \"\"\"\\\n",
    "Subject: Hi there\n",
    "\n",
    "This message is sent from Python.\"\"\"\n",
    "\n",
    "#context = ssl.create_default_context()\n",
    "#with smtplib.SMTP(smtp_server, port) as server:\n",
    "#    server.ehlo()  # Can be omitted\n",
    "#    server.starttls(context=context)\n",
    "#    server.ehlo()  # Can be omitted\n",
    "#    server.login(sender_email, password)\n",
    "#    server.sendmail(sender_email, receiver_email, message)"
   ]
  },
  {
   "cell_type": "code",
   "execution_count": 4,
   "id": "f182d7aa-073b-439f-8416-45f5422302c1",
   "metadata": {},
   "outputs": [
    {
     "name": "stderr",
     "output_type": "stream",
     "text": [
      "[NbConvertApp] Converting notebook email_message.ipynb to python\n",
      "[NbConvertApp] Writing 1053 bytes to email_message.py\n"
     ]
    }
   ],
   "source": [
    "!jupyter nbconvert email_message.ipynb --to python"
   ]
  },
  {
   "cell_type": "code",
   "execution_count": null,
   "id": "ce9ac5cb-b932-423e-ba32-e2718055896b",
   "metadata": {},
   "outputs": [],
   "source": []
  }
 ],
 "metadata": {
  "kernelspec": {
   "display_name": "Python 3",
   "language": "python",
   "name": "python3"
  },
  "language_info": {
   "codemirror_mode": {
    "name": "ipython",
    "version": 3
   },
   "file_extension": ".py",
   "mimetype": "text/x-python",
   "name": "python",
   "nbconvert_exporter": "python",
   "pygments_lexer": "ipython3",
   "version": "3.7.10"
  }
 },
 "nbformat": 4,
 "nbformat_minor": 5
}

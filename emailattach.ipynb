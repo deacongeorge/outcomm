{
 "cells": [
  {
   "cell_type": "code",
   "execution_count": null,
   "id": "5788f267-5b99-4f0b-8258-65d3e72db2f3",
   "metadata": {},
   "outputs": [],
   "source": [
    "#TCP/IP server program that receive message from server. "
   ]
  },
  {
   "cell_type": "code",
   "execution_count": null,
   "id": "082607a7-ceed-4aa1-95fd-0dd0f14f118e",
   "metadata": {},
   "outputs": [],
   "source": [
    "import socket\n",
    "  \n",
    "# take the server name and port name\n",
    "host = 'local host'\n",
    "port = 5000\n",
    "  \n",
    "# create a socket at server side\n",
    "# using TCP / IP protocol\n",
    "s = socket.socket(socket.AF_INET,\n",
    "                  socket.SOCK_STREAM)\n",
    "  \n",
    "# bind the socket with server\n",
    "# and port number\n",
    "s.bind(('', port))\n",
    "  \n",
    "# allow maximum 1 connection to\n",
    "# the socket\n",
    "s.listen(1)\n",
    "  \n",
    "# wait till a client accept\n",
    "# connection\n",
    "c, addr = s.accept()\n",
    "  \n",
    "# display client address\n",
    "print(\"CONNECTION FROM:\", str(addr))\n",
    "  \n",
    "# send message to the client after\n",
    "# encoding into binary string\n",
    "c.send(b\"HELLO, How are you ? \\\n",
    "       Welcome to Akash hacking World\")\n",
    " \n",
    "msg = \"Bye..............\"\n",
    "c.send(msg.encode())\n",
    "  \n",
    "# disconnect the server\n",
    "c.close()\n",
    "\n",
    " \n",
    "\n",
    "\n",
    "\n",
    "\n"
   ]
  },
  {
   "cell_type": "code",
   "execution_count": null,
   "id": "065ab5f7-55c3-4585-92c2-2ebd4d20004f",
   "metadata": {},
   "outputs": [],
   "source": [
    "import socket\n",
    "  \n",
    "# take the server name and port name\n",
    "  \n",
    "host = 'local host'\n",
    "port = 5000\n",
    "  \n",
    "# create a socket at client side\n",
    "# using TCP / IP protocol\n",
    "s = socket.socket(socket.AF_INET,\n",
    "                  socket.SOCK_STREAM)\n",
    "  \n",
    "# connect it to server and port\n",
    "# number on local computer.\n",
    "s.connect(('127.0.0.1', port))\n",
    "  \n",
    "# receive message string from\n",
    "# server, at a time 1024 B\n",
    "msg = s.recv(1024)\n",
    "  \n",
    "# repeat as long as message\n",
    "# string are not empty\n",
    "while msg:\n",
    "    print('Received:' + msg.decode())\n",
    "    msg = s.recv(1024)\n",
    " \n",
    "# disconnect the client\n",
    "s.close()"
   ]
  },
  {
   "cell_type": "code",
   "execution_count": 1,
   "id": "e4005b02-6087-4ac7-9111-b2ea399022aa",
   "metadata": {},
   "outputs": [
    {
     "name": "stderr",
     "output_type": "stream",
     "text": [
      "[NbConvertApp] Converting notebook socket.ipynb to python\n",
      "[NbConvertApp] Writing 1417 bytes to socket.py\n"
     ]
    }
   ],
   "source": [
    "!jupyter nbconvert socket.ipynb --to python"
   ]
  },
  {
   "cell_type": "code",
   "execution_count": null,
   "id": "1d1178b7-846a-4222-aba6-05c4581494c4",
   "metadata": {},
   "outputs": [],
   "source": []
  }
 ],
 "metadata": {
  "kernelspec": {
   "display_name": "Python 3",
   "language": "python",
   "name": "python3"
  },
  "language_info": {
   "codemirror_mode": {
    "name": "ipython",
    "version": 3
   },
   "file_extension": ".py",
   "mimetype": "text/x-python",
   "name": "python",
   "nbconvert_exporter": "python",
   "pygments_lexer": "ipython3",
   "version": "3.7.10"
  }
 },
 "nbformat": 4,
 "nbformat_minor": 5
}

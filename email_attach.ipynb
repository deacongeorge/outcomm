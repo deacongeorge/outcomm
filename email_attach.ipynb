{
 "cells": [
  {
   "cell_type": "code",
   "execution_count": null,
   "id": "8ce7cec9-9056-4b49-8057-a9df6a560204",
   "metadata": {},
   "outputs": [],
   "source": []
  },
  {
   "cell_type": "code",
   "execution_count": null,
   "id": "6de91589-7904-4fd1-b422-6d9e2bf0509a",
   "metadata": {},
   "outputs": [],
   "source": [
    "import email, smtplib, ssl\n",
    "\n",
    "from email import encoders\n",
    "from email.mime.base import MIMEBase\n",
    "from email.mime.multipart import MIMEMultipart\n",
    "from email.mime.text import MIMEText"
   ]
  },
  {
   "cell_type": "code",
   "execution_count": null,
   "id": "e76dcc92-3dfe-476d-8b3f-8dcc3b514810",
   "metadata": {},
   "outputs": [],
   "source": [
    "import email, smtplib, ssl\n",
    "\n",
    "from email import encoders\n",
    "from email.mime.base import MIMEBase\n",
    "from email.mime.multipart import MIMEMultipart\n",
    "from email.mime.text import MIMEText\n",
    "\n",
    "subject = \"An email with attachment from Python\"\n",
    "body = \"This is an email with attachment sent from Python\"\n",
    "sender_email = \"my@gmail.com\"\n",
    "receiver_email = \"your@gmail.com\"\n",
    "password = input(\"Type your password and press enter:\")\n",
    "\n",
    "# Create a multipart message and set headers\n",
    "message = MIMEMultipart()\n",
    "message[\"From\"] = sender_email\n",
    "message[\"To\"] = receiver_email\n",
    "message[\"Subject\"] = subject\n",
    "message[\"Bcc\"] = receiver_email  # Recommended for mass emails\n",
    "\n",
    "# Add body to email\n",
    "message.attach(MIMEText(body, \"plain\"))\n",
    "\n",
    "filename = \"document.pdf\"  # In same directory as script\n",
    "\n",
    "# Open PDF file in binary mode\n",
    "with open(filename, \"rb\") as attachment:\n",
    "    # Add file as application/octet-stream\n",
    "    # Email client can usually download this automatically as attachment\n",
    "    part = MIMEBase(\"application\", \"octet-stream\")\n",
    "    part.set_payload(attachment.read())\n",
    "\n",
    "# Encode file in ASCII characters to send by email    \n",
    "encoders.encode_base64(part)\n",
    "\n",
    "# Add header as key/value pair to attachment part\n",
    "part.add_header(\n",
    "    \"Content-Disposition\",\n",
    "    f\"attachment; filename= {filename}\",\n",
    ")\n",
    "\n",
    "# Add attachment to message and convert message to string\n",
    "message.attach(part)\n",
    "text = message.as_string()\n",
    "\n",
    "# Log in to server using secure context and send email\n",
    "context = ssl.create_default_context()\n",
    "with smtplib.SMTP_SSL(\"smtp.gmail.com\", 465, context=context) as server:\n",
    "    server.login(sender_email, password)\n",
    "    server.sendmail(sender_email, receiver_email, text)"
   ]
  }
 ],
 "metadata": {
  "kernelspec": {
   "display_name": "Python 3",
   "language": "python",
   "name": "python3"
  },
  "language_info": {
   "codemirror_mode": {
    "name": "ipython",
    "version": 3
   },
   "file_extension": ".py",
   "mimetype": "text/x-python",
   "name": "python",
   "nbconvert_exporter": "python",
   "pygments_lexer": "ipython3",
   "version": "3.7.10"
  }
 },
 "nbformat": 4,
 "nbformat_minor": 5
}
